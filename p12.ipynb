{
 "cells": [
  {
   "cell_type": "code",
   "execution_count": 1,
   "metadata": {},
   "outputs": [
    {
     "name": "stdout",
     "output_type": "stream",
     "text": [
      "Epoch 0 Loss: 0.49942423404254715\n",
      "Epoch 1000 Loss: 0.49998060561829705\n",
      "Epoch 2000 Loss: 0.49996477013859064\n",
      "Epoch 3000 Loss: 0.4999352931105572\n",
      "Epoch 4000 Loss: 0.49986033501443056\n",
      "Epoch 5000 Loss: 0.4995721155085874\n",
      "Epoch 6000 Loss: 0.49751801404895946\n",
      "Epoch 7000 Loss: 0.47773981960321654\n",
      "Epoch 8000 Loss: 0.40865930203981776\n",
      "Epoch 9000 Loss: 0.3039570039072423\n",
      "Final outputs after training:\n",
      "[[0.14441825]\n",
      " [0.84236557]\n",
      " [0.84072672]\n",
      " [0.18727452]]\n"
     ]
    }
   ],
   "source": [
    "import numpy as np\n",
    "\n",
    "def sigmoid(x):\n",
    "    return 1 / (1 + np.exp(-x))\n",
    "\n",
    "def sigmoid_derivative(x):\n",
    "    return x * (1 - x)\n",
    "\n",
    "inputs = np.array([[0, 0], [0, 1], [1, 0], [1, 1]])\n",
    "expected_output = np.array([[0], [1], [1], [0]])\n",
    "\n",
    "# Initialize weights for the two layers\n",
    "weights1 = np.random.rand(2, 4)\n",
    "weights2 = np.random.rand(4, 1)\n",
    "bias1 = np.random.rand(1, 4)\n",
    "bias2 = np.random.rand(1, 1)\n",
    "learning_rate = 0.1\n",
    "\n",
    "for epoch in range(10000):\n",
    "    # First layer\n",
    "    hidden_layer_input = np.dot(inputs, weights1) + bias1\n",
    "    hidden_layer_output = sigmoid(hidden_layer_input)\n",
    "    \n",
    "    # Second layer\n",
    "    final_output = sigmoid(np.dot(hidden_layer_output, weights2) + bias2)\n",
    "    \n",
    "    # Backpropagation\n",
    "    error = expected_output - final_output\n",
    "    d_predicted_output = error * sigmoid_derivative(final_output)\n",
    "    error_hidden_layer = d_predicted_output.dot(weights2.T)\n",
    "    d_hidden_layer = error_hidden_layer * sigmoid_derivative(hidden_layer_output)\n",
    "    \n",
    "    weights2 += hidden_layer_output.T.dot(d_predicted_output) * learning_rate\n",
    "    bias2 += np.sum(d_predicted_output, axis=0, keepdims=True) * learning_rate\n",
    "    weights1 += inputs.T.dot(d_hidden_layer) * learning_rate\n",
    "    bias1 += np.sum(d_hidden_layer, axis=0, keepdims=True) * learning_rate\n",
    "    \n",
    "    if epoch % 1000 == 0:\n",
    "        print(f'Epoch {epoch} Loss: {np.mean(np.abs(error))}')\n",
    "\n",
    "print(\"Final outputs after training:\")\n",
    "print(final_output)\n"
   ]
  }
 ],
 "metadata": {
  "kernelspec": {
   "display_name": "env",
   "language": "python",
   "name": "python3"
  },
  "language_info": {
   "codemirror_mode": {
    "name": "ipython",
    "version": 3
   },
   "file_extension": ".py",
   "mimetype": "text/x-python",
   "name": "python",
   "nbconvert_exporter": "python",
   "pygments_lexer": "ipython3",
   "version": "3.12.3"
  }
 },
 "nbformat": 4,
 "nbformat_minor": 2
}
