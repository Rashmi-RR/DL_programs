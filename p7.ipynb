{
 "cells": [
  {
   "cell_type": "code",
   "execution_count": 1,
   "metadata": {},
   "outputs": [],
   "source": [
    "import torch\n",
    "from torch import nn\n",
    "from torch.utils.data import DataLoader, TensorDataset"
   ]
  },
  {
   "cell_type": "code",
   "execution_count": 2,
   "metadata": {},
   "outputs": [],
   "source": [
    "data = torch.randint(0, 1000, (100, 10))\n",
    "labels = torch.randint(0, 2, (100,))\n",
    "dataset = TensorDataset(data, labels)\n",
    "loader = DataLoader(dataset, batch_size=10, shuffle=True)"
   ]
  },
  {
   "cell_type": "code",
   "execution_count": 12,
   "metadata": {},
   "outputs": [],
   "source": [
    "class LSTMClassifier(nn.Module):\n",
    "    def __init__(self, vocabsize, embeddingdim, hiddendim, outputdim):\n",
    "        super(LSTMClassifier, self).__init__()\n",
    "        self.embedding = nn.Embedding(vocabsize, embeddingdim)\n",
    "        self.lstm = nn.LSTM(embeddingdim, hiddendim, batch_first=True)\n",
    "        self.fc = nn.Linear(hiddendim, outputdim)\n",
    "    def forward(self, x):\n",
    "        x = self.embedding(x)\n",
    "        _, (hidden, _) = self.lstm(x)\n",
    "        return self.fc(hidden.squeeze(0))"
   ]
  },
  {
   "cell_type": "code",
   "execution_count": 13,
   "metadata": {},
   "outputs": [],
   "source": [
    "model = LSTMClassifier(1000, 50, 100, 2)\n",
    "criterion = nn.CrossEntropyLoss()\n",
    "optimizer = torch.optim.Adam(model.parameters())\n"
   ]
  },
  {
   "cell_type": "code",
   "execution_count": 14,
   "metadata": {},
   "outputs": [],
   "source": [
    "def train(n_epochs):\n",
    "    for epoch in range(n_epochs):\n",
    "        model.train()\n",
    "        train_loss = 0.0\n",
    "        for data, tgts in loader:\n",
    "            outputs = model(data)\n",
    "            loss = criterion(outputs, tgts)\n",
    "\n",
    "            optimizer.zero_grad()\n",
    "            loss.backward()\n",
    "            optimizer.step()\n",
    "            train_loss += loss.item()\n",
    "            avg_train_loss = train_loss/len(loader)\n",
    "            print(f\"Epoch {epoch+1}, Loss: {avg_train_loss:.4f}\")\n",
    "  "
   ]
  },
  {
   "cell_type": "code",
   "execution_count": 16,
   "metadata": {},
   "outputs": [
    {
     "name": "stdout",
     "output_type": "stream",
     "text": [
      "Epoch 1, Loss: 0.0009\n",
      "Epoch 1, Loss: 0.0018\n",
      "Epoch 1, Loss: 0.0022\n",
      "Epoch 1, Loss: 0.0023\n",
      "Epoch 1, Loss: 0.0026\n",
      "Epoch 1, Loss: 0.0030\n",
      "Epoch 1, Loss: 0.0031\n",
      "Epoch 1, Loss: 0.0036\n",
      "Epoch 1, Loss: 0.0037\n",
      "Epoch 1, Loss: 0.0037\n",
      "Epoch 2, Loss: 0.0002\n",
      "Epoch 2, Loss: 0.0003\n",
      "Epoch 2, Loss: 0.0004\n",
      "Epoch 2, Loss: 0.0006\n",
      "Epoch 2, Loss: 0.0007\n",
      "Epoch 2, Loss: 0.0007\n",
      "Epoch 2, Loss: 0.0008\n",
      "Epoch 2, Loss: 0.0008\n",
      "Epoch 2, Loss: 0.0009\n",
      "Epoch 2, Loss: 0.0009\n",
      "Epoch 3, Loss: 0.0000\n",
      "Epoch 3, Loss: 0.0001\n",
      "Epoch 3, Loss: 0.0001\n",
      "Epoch 3, Loss: 0.0002\n",
      "Epoch 3, Loss: 0.0003\n",
      "Epoch 3, Loss: 0.0003\n",
      "Epoch 3, Loss: 0.0003\n",
      "Epoch 3, Loss: 0.0004\n",
      "Epoch 3, Loss: 0.0004\n",
      "Epoch 3, Loss: 0.0005\n",
      "Epoch 4, Loss: 0.0000\n",
      "Epoch 4, Loss: 0.0001\n",
      "Epoch 4, Loss: 0.0001\n",
      "Epoch 4, Loss: 0.0002\n",
      "Epoch 4, Loss: 0.0002\n",
      "Epoch 4, Loss: 0.0003\n",
      "Epoch 4, Loss: 0.0003\n",
      "Epoch 4, Loss: 0.0003\n",
      "Epoch 4, Loss: 0.0004\n",
      "Epoch 4, Loss: 0.0004\n",
      "Epoch 5, Loss: 0.0000\n",
      "Epoch 5, Loss: 0.0001\n",
      "Epoch 5, Loss: 0.0001\n",
      "Epoch 5, Loss: 0.0002\n",
      "Epoch 5, Loss: 0.0002\n",
      "Epoch 5, Loss: 0.0002\n",
      "Epoch 5, Loss: 0.0002\n",
      "Epoch 5, Loss: 0.0003\n",
      "Epoch 5, Loss: 0.0003\n",
      "Epoch 5, Loss: 0.0003\n",
      "Epoch 6, Loss: 0.0000\n",
      "Epoch 6, Loss: 0.0000\n",
      "Epoch 6, Loss: 0.0001\n",
      "Epoch 6, Loss: 0.0001\n",
      "Epoch 6, Loss: 0.0001\n",
      "Epoch 6, Loss: 0.0002\n",
      "Epoch 6, Loss: 0.0002\n",
      "Epoch 6, Loss: 0.0002\n",
      "Epoch 6, Loss: 0.0003\n",
      "Epoch 6, Loss: 0.0003\n",
      "Epoch 7, Loss: 0.0000\n",
      "Epoch 7, Loss: 0.0001\n",
      "Epoch 7, Loss: 0.0001\n",
      "Epoch 7, Loss: 0.0001\n",
      "Epoch 7, Loss: 0.0001\n",
      "Epoch 7, Loss: 0.0001\n",
      "Epoch 7, Loss: 0.0002\n",
      "Epoch 7, Loss: 0.0002\n",
      "Epoch 7, Loss: 0.0002\n",
      "Epoch 7, Loss: 0.0003\n",
      "Epoch 8, Loss: 0.0000\n",
      "Epoch 8, Loss: 0.0001\n",
      "Epoch 8, Loss: 0.0001\n",
      "Epoch 8, Loss: 0.0001\n",
      "Epoch 8, Loss: 0.0001\n",
      "Epoch 8, Loss: 0.0002\n",
      "Epoch 8, Loss: 0.0002\n",
      "Epoch 8, Loss: 0.0002\n",
      "Epoch 8, Loss: 0.0002\n",
      "Epoch 8, Loss: 0.0003\n",
      "Epoch 9, Loss: 0.0000\n",
      "Epoch 9, Loss: 0.0000\n",
      "Epoch 9, Loss: 0.0001\n",
      "Epoch 9, Loss: 0.0001\n",
      "Epoch 9, Loss: 0.0001\n",
      "Epoch 9, Loss: 0.0002\n",
      "Epoch 9, Loss: 0.0002\n",
      "Epoch 9, Loss: 0.0002\n",
      "Epoch 9, Loss: 0.0002\n",
      "Epoch 9, Loss: 0.0002\n",
      "Epoch 10, Loss: 0.0000\n",
      "Epoch 10, Loss: 0.0000\n",
      "Epoch 10, Loss: 0.0001\n",
      "Epoch 10, Loss: 0.0001\n",
      "Epoch 10, Loss: 0.0001\n",
      "Epoch 10, Loss: 0.0001\n",
      "Epoch 10, Loss: 0.0002\n",
      "Epoch 10, Loss: 0.0002\n",
      "Epoch 10, Loss: 0.0002\n",
      "Epoch 10, Loss: 0.0002\n"
     ]
    }
   ],
   "source": [
    "train(10)"
   ]
  }
 ],
 "metadata": {
  "kernelspec": {
   "display_name": "env",
   "language": "python",
   "name": "python3"
  },
  "language_info": {
   "codemirror_mode": {
    "name": "ipython",
    "version": 3
   },
   "file_extension": ".py",
   "mimetype": "text/x-python",
   "name": "python",
   "nbconvert_exporter": "python",
   "pygments_lexer": "ipython3",
   "version": "3.12.3"
  }
 },
 "nbformat": 4,
 "nbformat_minor": 2
}
